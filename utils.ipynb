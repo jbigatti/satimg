{
 "cells": [
  {
   "cell_type": "code",
   "execution_count": 2,
   "metadata": {
    "collapsed": true
   },
   "outputs": [],
   "source": [
    "import os\n",
    "from shutil import copyfile\n",
    "\n",
    "from osgeo import gdal, ogr\n",
    "\n",
    "# Settings\n",
    "TEST_TO_TRAIN_CLASS_NAME = {\n",
    "    'MZ': 'MAIZ',\n",
    "    'MN': 'MANI',\n",
    "    'PN': 'PN',\n",
    "    'SJ': 'SOJA',\n",
    "    'SRG': 'SORGO',\n",
    "}\n",
    "\n",
    "CLASS_NAME_TO_INT = {\n",
    "    'ALFA': 1,\n",
    "    'MAIZ': 2,\n",
    "    'MANI': 3,\n",
    "    'MONTE': 4,\n",
    "    'PN': 5,\n",
    "    'RASTROJO': 6,\n",
    "    'SOJA': 7,\n",
    "    'SORGO': 8\n",
    "}\n",
    "\n",
    "INT_TO_CLASS_NAME = {\n",
    "    '1': 'ALFA',\n",
    "    '2': 'MAIZ',\n",
    "    '3': 'MANI',\n",
    "    '4': 'MONTE',\n",
    "    '5': 'PN',\n",
    "    '6': 'RASTROJO',\n",
    "    '7': 'SOJA',\n",
    "    '8': 'SORGO'\n",
    "}"
   ]
  },
  {
   "cell_type": "code",
   "execution_count": 4,
   "metadata": {
    "collapsed": false
   },
   "outputs": [
    {
     "name": "stdout",
     "output_type": "stream",
     "text": [
      "copy files from real_data/split/ to real_data/150201/train/\n",
      "copy files from real_data/split/ to real_data/150217/train/\n",
      "Rename: SJ_ROI_229_82_150217.shp to SOJA_ROI_229_82_150217.shp\n",
      "Rename: SJ_ROI_229_82_150217.prj to SOJA_ROI_229_82_150217.prj\n",
      "Rename: SJ_ROI_229_82_150217.shx to SOJA_ROI_229_82_150217.shx\n",
      "Rename: SJ_ROI_229_82_150217.dbf to SOJA_ROI_229_82_150217.dbf\n",
      "copy files from real_data/split/ to real_data/150321/train/\n",
      "Rename: MN_ROI_229_82_150321.shx to MANI_ROI_229_82_150321.shx\n",
      "Rename: MN_ROI_229_82_150321.prj to MANI_ROI_229_82_150321.prj\n",
      "Rename: MN_ROI_229_82_150321.shp to MANI_ROI_229_82_150321.shp\n",
      "Rename: MN_ROI_229_82_150321.dbf to MANI_ROI_229_82_150321.dbf\n"
     ]
    }
   ],
   "source": [
    "# Copy new files into each folder\n",
    "def separate_files_by_date():\n",
    "    dates = ['150201', '150217', '150321']\n",
    "    files_source = 'real_data/split/'\n",
    "    files_dest = 'real_data/split/split_by_date/%s/train/'\n",
    "    for date in dates:\n",
    "        print(\"copy files from %s to %s\" % (files_source, files_dest % date))\n",
    "        for f in os.listdir(files_source):\n",
    "            fname = f.split(\".\")[0]\n",
    "            if fname.endswith(date) and not fname.startswith('ROI'):\n",
    "                copyfile(os.path.join(files_source, f), os.path.join(files_dest % date, f))\n",
    "        unify_files_names(files_dest % date)"
   ]
  },
  {
   "cell_type": "code",
   "execution_count": 6,
   "metadata": {
    "collapsed": true
   },
   "outputs": [],
   "source": [
    "def print_cm(cm, labels):\n",
    "    \"\"\"pretty print for confusion matrixes\"\"\"\n",
    "    # https://gist.github.com/ClementC/acf8d5f21fd91c674808\n",
    "    columnwidth = max([len(x) for x in labels])\n",
    "    # Print header\n",
    "    print(\" \" * columnwidth, end=\"\\t\")\n",
    "    for label in labels:\n",
    "        print(\"%{0}s\".format(columnwidth) % label, end=\"\\t\")\n",
    "    print()\n",
    "    # Print rows\n",
    "    for i, label1 in enumerate(labels):\n",
    "        print(\"%{0}s\".format(columnwidth) % label1, end=\"\\t\")\n",
    "        for j in range(len(labels)):\n",
    "            print(\"%{0}d\".format(columnwidth) % cm[i, j], end=\"\\t\")\n",
    "        print()"
   ]
  },
  {
   "cell_type": "code",
   "execution_count": 6,
   "metadata": {
    "collapsed": false
   },
   "outputs": [],
   "source": [
    "def test_class_name_to_train_label(class_name):\n",
    "    \"\"\"Convert the test class name to the label assigned to the pixels during training.\"\"\"\n",
    "    # training_reference must be reference dict generated during the training process. \n",
    "    return CLASS_NAME_TO_INT[TEST_TO_TRAIN_CLASS_NAME[class_name]]\n",
    "\n",
    "def train_label_to_test_class_name(training_reference):\n",
    "    \"\"\"Convert the label assigned to the pixels during training to the test class name.\"\"\"\n",
    "    return INT_TO_CLASS_NAME[training_reference]"
   ]
  },
  {
   "cell_type": "code",
   "execution_count": 8,
   "metadata": {
    "collapsed": true
   },
   "outputs": [],
   "source": [
    "def extract_test_mask(vector_data_path, rows, cols, geo_transform, projection, attr):\n",
    "    \"\"\"\n",
    "    Rasterize our modified vector.\n",
    "    \"\"\"\n",
    "    data_source = gdal.OpenEx(vector_data_path, gdal.OF_VECTOR)\n",
    "    if data_source is None:\n",
    "        report_and_exit(\"File read failed: %s\", vector_data_path)\n",
    "    layer = data_source.GetLayer(0)\n",
    "    driver = gdal.GetDriverByName('MEM')\n",
    "    target_ds = driver.Create('', cols, rows, 1, gdal.GDT_UInt16)\n",
    "    target_ds.SetGeoTransform(geo_transform)\n",
    "    target_ds.SetProjection(projection)\n",
    "    gdal.RasterizeLayer(target_ds, [1], layer, options=[\"ATTRIBUTE=%s\" % attr])\n",
    "    return target_ds"
   ]
  },
  {
   "cell_type": "code",
   "execution_count": 7,
   "metadata": {
    "collapsed": false
   },
   "outputs": [],
   "source": [
    "def add_label_from_reference_name(vector_data_path, for_lot_id=False):\n",
    "    \"\"\"\n",
    "    Add a new attribute to the given vector file's geometries, converting the test class name in\n",
    "    ROI_E_14_1 to the corresponding training class label.\n",
    "    \n",
    "    NOTE: The given vector file is modified.\n",
    "    \n",
    "    \"\"\"\n",
    "    ds = gdal.OpenEx(vector_data_path, gdal.OF_UPDATE)\n",
    "    if ds is None:\n",
    "        print(\"Open failed.\")\n",
    "        sys.exit(1)\n",
    "    lyr = ds.GetLayer()\n",
    "\n",
    "    lyr.ResetReading()\n",
    "    lyr_defn = lyr.GetLayerDefn()\n",
    "    \n",
    "    new_field_defn = ogr.FieldDefn(\"reference\", ogr.OFTInteger)\n",
    "\n",
    "    if lyr.CreateField ( new_field_defn ) != 0:\n",
    "        raise Error(\"Creating reference_label field failed.\")\n",
    "    \n",
    "    field_roi_e_14_1 = lyr_defn.GetFieldIndex('ROI_E_14_1')\n",
    "    field_reference_label = lyr_defn.GetFieldIndex('reference')\n",
    "    for feat in lyr:\n",
    "        if not for_lot_id:\n",
    "            field_roi = feat.GetField(field_roi_e_14_1)\n",
    "            field_reference = feat.GetField(field_reference_label)\n",
    "            reference_label = test_class_name_to_train_label(field_roi)\n",
    "        else:\n",
    "            # Id is zero indexed, but category starts from 1.\n",
    "            reference_label = feat.GetFID() + 1 \n",
    "        \n",
    "        feat.SetField(field_reference_label, reference_label)\n",
    "        lyr.SetFeature(feat)\n",
    "    ds = None\n"
   ]
  },
  {
   "cell_type": "code",
   "execution_count": 3,
   "metadata": {
    "collapsed": false
   },
   "outputs": [],
   "source": [
    "def unify_files_names(folder_path):\n",
    "    for f in os.listdir(folder_path):\n",
    "        if f.startswith('SJ'):\n",
    "            print(\"Rename: %s to %s\" % (f, f.replace('SJ', 'SOJA')))\n",
    "            os.rename(os.path.join(folder_path, f), os.path.join(folder_path, f.replace('SJ', 'SOJA')))\n",
    "        elif f.startswith('MN'):\n",
    "            print(\"Rename: %s to %s\" % (f, f.replace('MN', 'MANI')))\n",
    "            os.rename(os.path.join(folder_path, f), os.path.join(folder_path, f.replace('MN', 'MANI')))\n"
   ]
  },
  {
   "cell_type": "code",
   "execution_count": 16,
   "metadata": {
    "collapsed": true
   },
   "outputs": [],
   "source": [
    "def get_value_from_class_file(fname):\n",
    "    print('File: %s' % fname)\n",
    "    aux = fname.split('/')\n",
    "    fname = aux[len(aux) - 1]\n",
    "    print('File 1: %s' % fname)\n",
    "    return CLASS_NAME_TO_INT[fname.split('_')[0]]"
   ]
  }
 ],
 "metadata": {
  "kernelspec": {
   "display_name": "Python 3",
   "language": "python",
   "name": "python3"
  },
  "language_info": {
   "codemirror_mode": {
    "name": "ipython",
    "version": 3
   },
   "file_extension": ".py",
   "mimetype": "text/x-python",
   "name": "python",
   "nbconvert_exporter": "python",
   "pygments_lexer": "ipython3",
   "version": "3.4.3"
  }
 },
 "nbformat": 4,
 "nbformat_minor": 0
}
