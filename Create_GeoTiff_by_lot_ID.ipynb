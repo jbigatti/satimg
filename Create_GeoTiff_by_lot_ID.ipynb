{
 "cells": [
  {
   "cell_type": "markdown",
   "metadata": {},
   "source": [
    "#### Is important to have \"fresh\" data in \"puntos_de_control\""
   ]
  },
  {
   "cell_type": "code",
   "execution_count": 7,
   "metadata": {
    "collapsed": false
   },
   "outputs": [
    {
     "name": "stdout",
     "output_type": "stream",
     "text": [
      "Reading the input: real_data/150201/img/L8_229_82_150201.tif\n"
     ]
    }
   ],
   "source": [
    "# Imports and Settings\n",
    "import pickle\n",
    "\n",
    "from osgeo import gdal, ogr\n",
    "\n",
    "from landsat8 import write_geotiff\n",
    "\n",
    "from utils import (\n",
    "    print_cm, test_class_name_to_train_label, train_label_to_test_class_name, \n",
    "    extract_test_mask, add_label_from_reference_name,\n",
    "    CLASS_NAME_TO_INT, INT_TO_CLASS_NAME)\n",
    "\n",
    "\n",
    "verification_vector_data_path = \"real_data/puntos_control/CLASIFICACION_Y_ROI.shp\"\n",
    "\n",
    "# We need projection and GeoTransform\n",
    "data_date = \"150201\"\n",
    "raster_data_path = \"real_data/%s/img/L8_229_82_%s.tif\" % (data_date, data_date)\n",
    "print(\"Reading the input: %s\" % raster_data_path)\n",
    "try:\n",
    "    raster_dataset = gdal.Open(raster_data_path, gdal.GA_ReadOnly)\n",
    "except RuntimeError as e:\n",
    "    report_and_exit(str(e))\n",
    "geo_transform = raster_dataset.GetGeoTransform()\n",
    "proj = raster_dataset.GetProjectionRef()\n",
    "# ##################################"
   ]
  },
  {
   "cell_type": "code",
   "execution_count": 8,
   "metadata": {
    "collapsed": false
   },
   "outputs": [],
   "source": [
    "# Esto se hace una sola vez\n",
    "add_label_from_reference_name(verification_vector_data_path)"
   ]
  },
  {
   "cell_type": "code",
   "execution_count": 9,
   "metadata": {
    "collapsed": false
   },
   "outputs": [],
   "source": [
    "\n",
    "rows, cols = raster_dataset.GetRasterBand(1).ReadAsArray().shape\n",
    "test_ds = extract_test_mask(verification_vector_data_path, rows, cols, geo_transform, proj, 'reference')"
   ]
  },
  {
   "cell_type": "code",
   "execution_count": 10,
   "metadata": {
    "collapsed": true
   },
   "outputs": [],
   "source": [
    "test_band = test_ds.GetRasterBand(1)\n",
    "labeled_pixels = test_band.ReadAsArray()"
   ]
  },
  {
   "cell_type": "code",
   "execution_count": 11,
   "metadata": {
    "collapsed": false
   },
   "outputs": [
    {
     "name": "stdout",
     "output_type": "stream",
     "text": [
      "Verification image created: verification_by_class.tiff\n"
     ]
    }
   ],
   "source": [
    "output_fname = \"verification_by_class.tiff\"\n",
    "write_geotiff(output_fname, labeled_pixels, geo_transform, proj)\n",
    "print(\"Verification image created: %s\" % output_fname)"
   ]
  },
  {
   "cell_type": "code",
   "execution_count": 12,
   "metadata": {
    "collapsed": true
   },
   "outputs": [],
   "source": [
    "with open('mask_lote_by_class.pickle', 'wb') as fout:\n",
    "    pickle.dump(labeled_pixels, fout)"
   ]
  }
 ],
 "metadata": {
  "kernelspec": {
   "display_name": "Python 3",
   "language": "python",
   "name": "python3"
  },
  "language_info": {
   "codemirror_mode": {
    "name": "ipython",
    "version": 3
   },
   "file_extension": ".py",
   "mimetype": "text/x-python",
   "name": "python",
   "nbconvert_exporter": "python",
   "pygments_lexer": "ipython3",
   "version": "3.4.3"
  }
 },
 "nbformat": 4,
 "nbformat_minor": 0
}
