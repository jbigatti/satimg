{
 "cells": [
  {
   "cell_type": "code",
   "execution_count": 1,
   "metadata": {
    "ExecuteTime": {
     "end_time": "2016-04-24T20:03:37.922784",
     "start_time": "2016-04-24T20:03:35.923644"
    },
    "collapsed": false
   },
   "outputs": [],
   "source": [
    "import numpy as np\n",
    "import os\n",
    "import pickle\n",
    "\n",
    "from matplotlib import pyplot as plt\n",
    "from osgeo import gdal\n",
    "from sklearn import metrics\n",
    "from sklearn.ensemble import RandomForestClassifier\n",
    "from sklearn.svm import SVC\n",
    "\n",
    "from landsat8 import vectors_to_raster, write_geotiff\n",
    "\n",
    "gdal.UseExceptions()"
   ]
  },
  {
   "cell_type": "code",
   "execution_count": 2,
   "metadata": {
    "ExecuteTime": {
     "end_time": "2016-04-24T20:03:50.490070",
     "start_time": "2016-04-24T20:03:37.925770"
    },
    "collapsed": false
   },
   "outputs": [
    {
     "name": "stdout",
     "output_type": "stream",
     "text": [
      "Reading the input: real_data/150321/img/L8_229_82_150321.tif\n"
     ]
    }
   ],
   "source": [
    "data_date = \"150321\"\n",
    "raster_data_path = \"real_data/%s/img/L8_229_82_%s.tif\" % (data_date, data_date)\n",
    "train_data_path = \"real_data/%s/train/\" % data_date\n",
    "\n",
    "print(\"Reading the input: %s\" % raster_data_path)\n",
    "try:\n",
    "    raster_dataset = gdal.Open(raster_data_path, gdal.GA_ReadOnly)\n",
    "except RuntimeError as e:\n",
    "    report_and_exit(str(e))\n",
    "\n",
    "geo_transform = raster_dataset.GetGeoTransform()\n",
    "proj = raster_dataset.GetProjectionRef()\n",
    "bands_data = []\n",
    "for b in range(1, raster_dataset.RasterCount + 1):\n",
    "    band = raster_dataset.GetRasterBand(b)\n",
    "    bands_data.append(band.ReadAsArray())\n",
    "\n",
    "bands_data = np.dstack(bands_data)\n",
    "rows, cols, n_bands = bands_data.shape\n",
    "# A sample is a vector with all the bands data. Each pixel (independent of its position) is a\n",
    "# sample.\n",
    "n_samples = rows * cols"
   ]
  },
  {
   "cell_type": "markdown",
   "metadata": {
    "ExecuteTime": {
     "end_time": "2016-04-23T13:40:59.132049",
     "start_time": "2016-04-23T13:40:59.127629"
    }
   },
   "source": [
    "# Training"
   ]
  },
  {
   "cell_type": "code",
   "execution_count": 3,
   "metadata": {
    "ExecuteTime": {
     "end_time": "2016-04-24T20:03:50.601554",
     "start_time": "2016-04-24T20:03:50.493718"
    },
    "collapsed": false
   },
   "outputs": [
    {
     "name": "stdout",
     "output_type": "stream",
     "text": [
      "Process the training data\n"
     ]
    }
   ],
   "source": [
    "print(\"Process the training data\")\n",
    "vector_files_sufix = \"%s.shp\" % data_date\n",
    "try:\n",
    "    files = [f for f in os.listdir(train_data_path) \n",
    "             if f.endswith(vector_files_sufix) and not f.startswith('ROI')]\n",
    "    shapefiles = [os.path.join(train_data_path, f) for f in files if f.endswith('.shp')]\n",
    "except OSError.FileNotFoundError as e:\n",
    "    report_and_exit(str(e))"
   ]
  },
  {
   "cell_type": "code",
   "execution_count": 4,
   "metadata": {
    "ExecuteTime": {
     "end_time": "2016-04-24T20:03:57.440532",
     "start_time": "2016-04-24T20:03:50.605103"
    },
    "collapsed": false
   },
   "outputs": [],
   "source": [
    "training = vectors_to_raster(shapefiles, rows, cols, geo_transform, proj)"
   ]
  },
  {
   "cell_type": "code",
   "execution_count": 5,
   "metadata": {
    "ExecuteTime": {
     "end_time": "2016-04-24T20:03:57.454942",
     "start_time": "2016-04-24T20:03:57.441940"
    },
    "collapsed": false
   },
   "outputs": [
    {
     "data": {
      "text/plain": [
       "{}"
      ]
     },
     "execution_count": 5,
     "metadata": {},
     "output_type": "execute_result"
    }
   ],
   "source": [
    "training['reference']"
   ]
  },
  {
   "cell_type": "code",
   "execution_count": 6,
   "metadata": {
    "ExecuteTime": {
     "end_time": "2016-04-24T20:03:58.030972",
     "start_time": "2016-04-24T20:03:57.456464"
    },
    "collapsed": false
   },
   "outputs": [],
   "source": [
    "labeled_pixels = training['raster']\n",
    "is_train = np.nonzero(labeled_pixels)\n",
    "training_labels = labeled_pixels[is_train]\n",
    "training_samples = bands_data[is_train]"
   ]
  },
  {
   "cell_type": "code",
   "execution_count": 7,
   "metadata": {
    "ExecuteTime": {
     "end_time": "2016-04-24T20:03:59.466616",
     "start_time": "2016-04-24T20:03:58.032896"
    },
    "collapsed": false
   },
   "outputs": [],
   "source": [
    "write_geotiff(\"training_labels_%s.tiff\"%data_date, labeled_pixels, geo_transform, proj)"
   ]
  },
  {
   "cell_type": "code",
   "execution_count": 8,
   "metadata": {
    "ExecuteTime": {
     "end_time": "2016-04-24T20:03:59.761609",
     "start_time": "2016-04-24T20:03:59.468595"
    },
    "collapsed": false
   },
   "outputs": [
    {
     "name": "stdout",
     "output_type": "stream",
     "text": [
      "Train the classifier: RandomForestClassifier(bootstrap=True, class_weight=None, criterion='gini',\n",
      "            max_depth=None, max_features='auto', max_leaf_nodes=None,\n",
      "            min_samples_leaf=1, min_samples_split=2,\n",
      "            min_weight_fraction_leaf=0.0, n_estimators=10, n_jobs=7,\n",
      "            oob_score=False, random_state=None, verbose=0,\n",
      "            warm_start=False)\n"
     ]
    },
    {
     "data": {
      "text/plain": [
       "RandomForestClassifier(bootstrap=True, class_weight=None, criterion='gini',\n",
       "            max_depth=None, max_features='auto', max_leaf_nodes=None,\n",
       "            min_samples_leaf=1, min_samples_split=2,\n",
       "            min_weight_fraction_leaf=0.0, n_estimators=10, n_jobs=7,\n",
       "            oob_score=False, random_state=None, verbose=0,\n",
       "            warm_start=False)"
      ]
     },
     "execution_count": 8,
     "metadata": {},
     "output_type": "execute_result"
    }
   ],
   "source": [
    "classifier = RandomForestClassifier(n_jobs=7)\n",
    "print(\"Train the classifier: %s\" % str(classifier))\n",
    "classifier.fit(training_samples, training_labels)"
   ]
  },
  {
   "cell_type": "code",
   "execution_count": 9,
   "metadata": {
    "ExecuteTime": {
     "end_time": "2016-04-24T20:03:59.770328",
     "start_time": "2016-04-24T20:03:59.764284"
    },
    "collapsed": false
   },
   "outputs": [
    {
     "data": {
      "text/plain": [
       "{'ALFA': 1,\n",
       " 'MAIZ': 2,\n",
       " 'MN': 3,\n",
       " 'MONTE': 4,\n",
       " 'PN': 5,\n",
       " 'RASTROJO': 6,\n",
       " 'SOJA': 7,\n",
       " 'SORGO': 8}"
      ]
     },
     "execution_count": 9,
     "metadata": {},
     "output_type": "execute_result"
    }
   ],
   "source": [
    "reference = {os.path.basename(f).split('_')[0]: v for f, v in training['reference'].items()}\n",
    "reference"
   ]
  },
  {
   "cell_type": "code",
   "execution_count": 10,
   "metadata": {
    "ExecuteTime": {
     "end_time": "2016-04-24T20:03:59.898294",
     "start_time": "2016-04-24T20:03:59.772442"
    },
    "collapsed": false
   },
   "outputs": [
    {
     "name": "stdout",
     "output_type": "stream",
     "text": [
      "Saving trained classifier and the classes reference...\n"
     ]
    }
   ],
   "source": [
    "print(\"Saving trained classifier and the classes reference...\")\n",
    "results = {\n",
    "    'classifier': classifier,\n",
    "    'reference': reference\n",
    "}\n",
    "with open('classifier_trained_%s.pickle' % data_date, 'wb') as classifier_file:    \n",
    "    pickle.dump(results, classifier_file)"
   ]
  },
  {
   "cell_type": "markdown",
   "metadata": {},
   "source": [
    "# Results\n",
    "\n",
    "Created a pickle file: **classifier_trained.pickle**. Unpickle to get a trained RandomForestClassifier."
   ]
  }
 ],
 "metadata": {
  "kernelspec": {
   "display_name": "Python 3",
   "language": "python",
   "name": "python3"
  },
  "language_info": {
   "codemirror_mode": {
    "name": "ipython",
    "version": 3
   },
   "file_extension": ".py",
   "mimetype": "text/x-python",
   "name": "python",
   "nbconvert_exporter": "python",
   "pygments_lexer": "ipython3",
   "version": "3.4.3"
  }
 },
 "nbformat": 4,
 "nbformat_minor": 0
}
